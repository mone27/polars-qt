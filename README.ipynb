{
 "cells": [
  {
   "cell_type": "markdown",
   "id": "6a00ea89-a303-4012-a31b-24e4b30f64c5",
   "metadata": {},
   "source": [
    "# Polars unit"
   ]
  },
  {
   "cell_type": "markdown",
   "id": "928e0e1b-bd9e-4a47-be4d-e302b9017f86",
   "metadata": {},
   "source": [
    "polars plugin to support quantities: value and a physical unit\n",
    "\n",
    "\n",
    "This package is still in early phases of development. Supported features:\n",
    "\n",
    "- [x] use expression transparently on the numeric columns\n",
    "- [ ] functions that take an argument (e.g. `clip`) that is not an expression\n",
    "- [x] propagate physical units when combining different units\n",
    "- [ ] unit conversions\n",
    "- [ ] pretty print units\n",
    "\n",
    "The value and physical unit is stored as a struct.\n",
    "\n",
    "Unit operations supported:\n",
    "\n",
    "- [x] addition/subtraction\n",
    "- [x] multiplication/division\n",
    "- [ ] power"
   ]
  },
  {
   "cell_type": "markdown",
   "id": "1b13eb43-9083-43bc-bfd0-b3342da5bb58",
   "metadata": {},
   "source": [
    "## Example"
   ]
  },
  {
   "cell_type": "markdown",
   "id": "b4c4dd90-d9a8-4a4f-99c1-f16f22f492c5",
   "metadata": {},
   "source": [
    "add `qt.with_unit([(\"m\", 1)])` to a `Series` to specify the unit of measure."
   ]
  },
  {
   "cell_type": "code",
   "execution_count": 1,
   "id": "d7236bba-8213-4b7a-91fb-a458e1ab8e12",
   "metadata": {},
   "outputs": [
    {
     "data": {
      "text/html": [
       "<div><style>\n",
       ".dataframe > thead > tr,\n",
       ".dataframe > tbody > tr {\n",
       "  text-align: right;\n",
       "  white-space: pre-wrap;\n",
       "}\n",
       "</style>\n",
       "<small>shape: (3, 2)</small><table border=\"1\" class=\"dataframe\"><thead><tr><th>distance</th><th>time</th></tr><tr><td>struct[2]</td><td>struct[2]</td></tr></thead><tbody><tr><td>{1.0,[{&quot;m&quot;,1}]}</td><td>{1.0,[{&quot;s&quot;,1}]}</td></tr><tr><td>{2.0,[{&quot;m&quot;,1}]}</td><td>{2.0,[{&quot;s&quot;,1}]}</td></tr><tr><td>{3.0,[{&quot;m&quot;,1}]}</td><td>{3.0,[{&quot;s&quot;,1}]}</td></tr></tbody></table></div>"
      ],
      "text/plain": [
       "shape: (3, 2)\n",
       "┌─────────────────┬─────────────────┐\n",
       "│ distance        ┆ time            │\n",
       "│ ---             ┆ ---             │\n",
       "│ struct[2]       ┆ struct[2]       │\n",
       "╞═════════════════╪═════════════════╡\n",
       "│ {1.0,[{\"m\",1}]} ┆ {1.0,[{\"s\",1}]} │\n",
       "│ {2.0,[{\"m\",1}]} ┆ {2.0,[{\"s\",1}]} │\n",
       "│ {3.0,[{\"m\",1}]} ┆ {3.0,[{\"s\",1}]} │\n",
       "└─────────────────┴─────────────────┘"
      ]
     },
     "execution_count": 1,
     "metadata": {},
     "output_type": "execute_result"
    }
   ],
   "source": [
    "import polars as pl\n",
    "\n",
    "df = pl.DataFrame(\n",
    "    {\n",
    "        \"distance\": pl.Series([1.0, 2.0, 3.0]).qt.with_unit([(\"m\", 1)]),\n",
    "        \"time\": pl.Series([1.0, 2.0, 3.0]).qt.with_unit([(\"s\", 1)]),\n",
    "    }\n",
    ")\n",
    "df"
   ]
  },
  {
   "cell_type": "markdown",
   "id": "86007779-faab-47a6-b2de-eb6d9e30ba03",
   "metadata": {},
   "source": [
    "Can apply functions on the underlying numeric column using `.qt.<func>` on an expression"
   ]
  },
  {
   "cell_type": "code",
   "execution_count": 2,
   "id": "d5ec0178-5667-46bc-96aa-ae80906bb0ec",
   "metadata": {},
   "outputs": [
    {
     "data": {
      "text/html": [
       "<div><style>\n",
       ".dataframe > thead > tr,\n",
       ".dataframe > tbody > tr {\n",
       "  text-align: right;\n",
       "  white-space: pre-wrap;\n",
       "}\n",
       "</style>\n",
       "<small>shape: (1, 1)</small><table border=\"1\" class=\"dataframe\"><thead><tr><th>distance</th></tr><tr><td>struct[2]</td></tr></thead><tbody><tr><td>{2.0,[{&quot;m&quot;,1}]}</td></tr></tbody></table></div>"
      ],
      "text/plain": [
       "shape: (1, 1)\n",
       "┌─────────────────┐\n",
       "│ distance        │\n",
       "│ ---             │\n",
       "│ struct[2]       │\n",
       "╞═════════════════╡\n",
       "│ {2.0,[{\"m\",1}]} │\n",
       "└─────────────────┘"
      ]
     },
     "execution_count": 2,
     "metadata": {},
     "output_type": "execute_result"
    }
   ],
   "source": [
    "df.select(pl.col(\"distance\").qt.mean())"
   ]
  },
  {
   "cell_type": "markdown",
   "id": "f8493d87-6582-4755-b755-793ae7ec033d",
   "metadata": {},
   "source": [
    "`<func>` can be any expression function that is supported on a numeric column. It also works on functions that take 2 columns"
   ]
  },
  {
   "cell_type": "code",
   "execution_count": 3,
   "id": "a00428a9-5468-4478-9ceb-aa7f313e4731",
   "metadata": {},
   "outputs": [
    {
     "data": {
      "text/html": [
       "<div><style>\n",
       ".dataframe > thead > tr,\n",
       ".dataframe > tbody > tr {\n",
       "  text-align: right;\n",
       "  white-space: pre-wrap;\n",
       "}\n",
       "</style>\n",
       "<small>shape: (3, 4)</small><table border=\"1\" class=\"dataframe\"><thead><tr><th>distance</th><th>time</th><th>dist_neg</th><th>dist_dist</th></tr><tr><td>struct[2]</td><td>struct[2]</td><td>struct[2]</td><td>struct[2]</td></tr></thead><tbody><tr><td>{1.0,[{&quot;m&quot;,1}]}</td><td>{1.0,[{&quot;s&quot;,1}]}</td><td>{-1.0,[{&quot;m&quot;,1}]}</td><td>{2.0,[{&quot;m&quot;,1}]}</td></tr><tr><td>{2.0,[{&quot;m&quot;,1}]}</td><td>{2.0,[{&quot;s&quot;,1}]}</td><td>{-2.0,[{&quot;m&quot;,1}]}</td><td>{4.0,[{&quot;m&quot;,1}]}</td></tr><tr><td>{3.0,[{&quot;m&quot;,1}]}</td><td>{3.0,[{&quot;s&quot;,1}]}</td><td>{-3.0,[{&quot;m&quot;,1}]}</td><td>{6.0,[{&quot;m&quot;,1}]}</td></tr></tbody></table></div>"
      ],
      "text/plain": [
       "shape: (3, 4)\n",
       "┌─────────────────┬─────────────────┬──────────────────┬─────────────────┐\n",
       "│ distance        ┆ time            ┆ dist_neg         ┆ dist_dist       │\n",
       "│ ---             ┆ ---             ┆ ---              ┆ ---             │\n",
       "│ struct[2]       ┆ struct[2]       ┆ struct[2]        ┆ struct[2]       │\n",
       "╞═════════════════╪═════════════════╪══════════════════╪═════════════════╡\n",
       "│ {1.0,[{\"m\",1}]} ┆ {1.0,[{\"s\",1}]} ┆ {-1.0,[{\"m\",1}]} ┆ {2.0,[{\"m\",1}]} │\n",
       "│ {2.0,[{\"m\",1}]} ┆ {2.0,[{\"s\",1}]} ┆ {-2.0,[{\"m\",1}]} ┆ {4.0,[{\"m\",1}]} │\n",
       "│ {3.0,[{\"m\",1}]} ┆ {3.0,[{\"s\",1}]} ┆ {-3.0,[{\"m\",1}]} ┆ {6.0,[{\"m\",1}]} │\n",
       "└─────────────────┴─────────────────┴──────────────────┴─────────────────┘"
      ]
     },
     "execution_count": 3,
     "metadata": {},
     "output_type": "execute_result"
    }
   ],
   "source": [
    "df.with_columns(\n",
    "    dist_neg=pl.col(\"distance\").qt.neg(),\n",
    "    dist_dist=pl.col(\"distance\").qt.add(pl.col(\"distance\")),\n",
    ")"
   ]
  },
  {
   "cell_type": "markdown",
   "id": "bdf44da5-fd8e-4427-b9b5-63de6a2dd7d5",
   "metadata": {},
   "source": [
    "you need to use the `.qt` on at least one operand (cannot subclass `pl.Series`) when doing basic arithmetic"
   ]
  },
  {
   "cell_type": "code",
   "execution_count": 4,
   "id": "35f96bcb-1ead-4778-99e9-ee5e5f040436",
   "metadata": {},
   "outputs": [
    {
     "data": {
      "text/html": [
       "<div><style>\n",
       ".dataframe > thead > tr,\n",
       ".dataframe > tbody > tr {\n",
       "  text-align: right;\n",
       "  white-space: pre-wrap;\n",
       "}\n",
       "</style>\n",
       "<small>shape: (3, 3)</small><table border=\"1\" class=\"dataframe\"><thead><tr><th>distance</th><th>time</th><th>dist_squared</th></tr><tr><td>struct[2]</td><td>struct[2]</td><td>struct[2]</td></tr></thead><tbody><tr><td>{1.0,[{&quot;m&quot;,1}]}</td><td>{1.0,[{&quot;s&quot;,1}]}</td><td>{1.0,[{&quot;m&quot;,2}]}</td></tr><tr><td>{2.0,[{&quot;m&quot;,1}]}</td><td>{2.0,[{&quot;s&quot;,1}]}</td><td>{4.0,[{&quot;m&quot;,2}]}</td></tr><tr><td>{3.0,[{&quot;m&quot;,1}]}</td><td>{3.0,[{&quot;s&quot;,1}]}</td><td>{9.0,[{&quot;m&quot;,2}]}</td></tr></tbody></table></div>"
      ],
      "text/plain": [
       "shape: (3, 3)\n",
       "┌─────────────────┬─────────────────┬─────────────────┐\n",
       "│ distance        ┆ time            ┆ dist_squared    │\n",
       "│ ---             ┆ ---             ┆ ---             │\n",
       "│ struct[2]       ┆ struct[2]       ┆ struct[2]       │\n",
       "╞═════════════════╪═════════════════╪═════════════════╡\n",
       "│ {1.0,[{\"m\",1}]} ┆ {1.0,[{\"s\",1}]} ┆ {1.0,[{\"m\",2}]} │\n",
       "│ {2.0,[{\"m\",1}]} ┆ {2.0,[{\"s\",1}]} ┆ {4.0,[{\"m\",2}]} │\n",
       "│ {3.0,[{\"m\",1}]} ┆ {3.0,[{\"s\",1}]} ┆ {9.0,[{\"m\",2}]} │\n",
       "└─────────────────┴─────────────────┴─────────────────┘"
      ]
     },
     "execution_count": 4,
     "metadata": {},
     "output_type": "execute_result"
    }
   ],
   "source": [
    "df.with_columns(dist_squared=pl.col(\"distance\").qt * pl.col(\"distance\"))"
   ]
  },
  {
   "cell_type": "code",
   "execution_count": 5,
   "id": "7de5c470-eacc-4dac-84c0-df25d7d737a5",
   "metadata": {},
   "outputs": [
    {
     "data": {
      "text/html": [
       "<div><style>\n",
       ".dataframe > thead > tr,\n",
       ".dataframe > tbody > tr {\n",
       "  text-align: right;\n",
       "  white-space: pre-wrap;\n",
       "}\n",
       "</style>\n",
       "<small>shape: (3, 3)</small><table border=\"1\" class=\"dataframe\"><thead><tr><th>distance</th><th>time</th><th>speed</th></tr><tr><td>struct[2]</td><td>struct[2]</td><td>struct[2]</td></tr></thead><tbody><tr><td>{1.0,[{&quot;m&quot;,1}]}</td><td>{1.0,[{&quot;s&quot;,1}]}</td><td>{1.0,[{&quot;m&quot;,1}, {&quot;s&quot;,-1}]}</td></tr><tr><td>{2.0,[{&quot;m&quot;,1}]}</td><td>{2.0,[{&quot;s&quot;,1}]}</td><td>{1.0,[{&quot;m&quot;,1}, {&quot;s&quot;,-1}]}</td></tr><tr><td>{3.0,[{&quot;m&quot;,1}]}</td><td>{3.0,[{&quot;s&quot;,1}]}</td><td>{1.0,[{&quot;m&quot;,1}, {&quot;s&quot;,-1}]}</td></tr></tbody></table></div>"
      ],
      "text/plain": [
       "shape: (3, 3)\n",
       "┌─────────────────┬─────────────────┬───────────────────────────┐\n",
       "│ distance        ┆ time            ┆ speed                     │\n",
       "│ ---             ┆ ---             ┆ ---                       │\n",
       "│ struct[2]       ┆ struct[2]       ┆ struct[2]                 │\n",
       "╞═════════════════╪═════════════════╪═══════════════════════════╡\n",
       "│ {1.0,[{\"m\",1}]} ┆ {1.0,[{\"s\",1}]} ┆ {1.0,[{\"m\",1}, {\"s\",-1}]} │\n",
       "│ {2.0,[{\"m\",1}]} ┆ {2.0,[{\"s\",1}]} ┆ {1.0,[{\"m\",1}, {\"s\",-1}]} │\n",
       "│ {3.0,[{\"m\",1}]} ┆ {3.0,[{\"s\",1}]} ┆ {1.0,[{\"m\",1}, {\"s\",-1}]} │\n",
       "└─────────────────┴─────────────────┴───────────────────────────┘"
      ]
     },
     "execution_count": 5,
     "metadata": {},
     "output_type": "execute_result"
    }
   ],
   "source": [
    "df.with_columns(speed=pl.col(\"distance\").qt / pl.col(\"time\"))"
   ]
  },
  {
   "cell_type": "markdown",
   "id": "7b2dbd54-e0ca-4c89-a6f1-e472d7f254ff",
   "metadata": {},
   "source": [
    "## Details\n",
    "\n",
    "the plugin is implemented as a rust polars plugin. \n",
    "\n",
    "A *quantity* `Series` is stored as a Struct with two fields:\n",
    "\n",
    "- `value` a numeric column\n",
    "- `unit` a unit. This is implemented a a List column of Struct with the fields `name` and `power`\n",
    "\n",
    "Polars doesn't support yet Extentions Dtype so this implementation detail is shown to the user.\n",
    "\n",
    "The core of the plugin unpacks the `value` from the given series, applies the original expression, and then repacks it a *quantity* Series"
   ]
  },
  {
   "cell_type": "markdown",
   "id": "aec36167",
   "metadata": {},
   "source": [
    "### Unit system\n",
    "\n",
    "we need a runtime unit system so we can't use the `uom` crate, which is a compile time unit check.\n",
    "\n",
    "The idea of the implementation is that on the Rust side we only implement the basic checks of units and operations, all the rest (parsing from strings, simplify, formatting) will be implemented in python, maybe using a library like `pint` as a backend"
   ]
  }
 ],
 "metadata": {
  "kernelspec": {
   "display_name": "Python 3 (ipykernel)",
   "language": "python",
   "name": "python3"
  },
  "language_info": {
   "codemirror_mode": {
    "name": "ipython",
    "version": 3
   },
   "file_extension": ".py",
   "mimetype": "text/x-python",
   "name": "python",
   "nbconvert_exporter": "python",
   "pygments_lexer": "ipython3",
   "version": "3.13.1"
  }
 },
 "nbformat": 4,
 "nbformat_minor": 5
}
