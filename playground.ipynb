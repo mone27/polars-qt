{
 "cells": [
  {
   "cell_type": "code",
   "execution_count": 1,
   "metadata": {},
   "outputs": [
    {
     "data": {
      "text/html": [
       "<div><style>\n",
       ".dataframe > thead > tr,\n",
       ".dataframe > tbody > tr {\n",
       "  text-align: right;\n",
       "  white-space: pre-wrap;\n",
       "}\n",
       "</style>\n",
       "<small>shape: (5, 4)</small><table border=\"1\" class=\"dataframe\"><thead><tr><th>a</th><th>b</th><th>c</th><th>aa</th></tr><tr><td>struct[2]</td><td>struct[2]</td><td>i64</td><td>struct[2]</td></tr></thead><tbody><tr><td>{-1,&quot;m&quot;}</td><td>{1,&quot;m&quot;}</td><td>1</td><td>{1,&quot;m&quot;}</td></tr><tr><td>{2,&quot;m&quot;}</td><td>{2,&quot;m&quot;}</td><td>2</td><td>{2,&quot;m&quot;}</td></tr><tr><td>{3,&quot;m&quot;}</td><td>{3,&quot;m&quot;}</td><td>3</td><td>{3,&quot;m&quot;}</td></tr><tr><td>{4,&quot;m&quot;}</td><td>{4,&quot;m&quot;}</td><td>4</td><td>{4,&quot;m&quot;}</td></tr><tr><td>{5,&quot;m&quot;}</td><td>{5,&quot;m&quot;}</td><td>5</td><td>{5,&quot;m&quot;}</td></tr></tbody></table></div>"
      ],
      "text/plain": [
       "shape: (5, 4)\n",
       "┌───────────┬───────────┬─────┬───────────┐\n",
       "│ a         ┆ b         ┆ c   ┆ aa        │\n",
       "│ ---       ┆ ---       ┆ --- ┆ ---       │\n",
       "│ struct[2] ┆ struct[2] ┆ i64 ┆ struct[2] │\n",
       "╞═══════════╪═══════════╪═════╪═══════════╡\n",
       "│ {-1,\"m\"}  ┆ {1,\"m\"}   ┆ 1   ┆ {1,\"m\"}   │\n",
       "│ {2,\"m\"}   ┆ {2,\"m\"}   ┆ 2   ┆ {2,\"m\"}   │\n",
       "│ {3,\"m\"}   ┆ {3,\"m\"}   ┆ 3   ┆ {3,\"m\"}   │\n",
       "│ {4,\"m\"}   ┆ {4,\"m\"}   ┆ 4   ┆ {4,\"m\"}   │\n",
       "│ {5,\"m\"}   ┆ {5,\"m\"}   ┆ 5   ┆ {5,\"m\"}   │\n",
       "└───────────┴───────────┴─────┴───────────┘"
      ]
     },
     "execution_count": 1,
     "metadata": {},
     "output_type": "execute_result"
    }
   ],
   "source": [
    "import polars as pl\n",
    "import polars_unit as plu\n",
    "\n",
    "quantity = pl.Struct(\n",
    "    {\n",
    "        \"value\": pl.Int64,\n",
    "        \"unit\": pl.String,\n",
    "    }\n",
    ")\n",
    "\n",
    "\n",
    "df = pl.DataFrame(\n",
    "    {\n",
    "        \"a\": pl.Series(\n",
    "            [\n",
    "                (-1, \"m\"),\n",
    "                (2, \"m\"),\n",
    "                (3, \"m\"),\n",
    "                (4, \"m\"),\n",
    "                (5, \"m\"),\n",
    "            ],\n",
    "            dtype=quantity,\n",
    "        ),\n",
    "        \"b\": pl.Series(\n",
    "            [\n",
    "                (1, \"m\"),\n",
    "                (2, \"m\"),\n",
    "                (3, \"m\"),\n",
    "                (4, \"m\"),\n",
    "                (5, \"m\"),\n",
    "            ],\n",
    "            dtype=quantity,\n",
    "        ),\n",
    "        \"c\": [1, 2, 3, 4, 5],\n",
    "    }\n",
    ")\n",
    "\n",
    "\n",
    "df.with_columns(aa=plu.abs(\"a\"))"
   ]
  },
  {
   "cell_type": "markdown",
   "metadata": {},
   "source": [
    "Numeric cast in polars"
   ]
  },
  {
   "cell_type": "code",
   "execution_count": 2,
   "metadata": {},
   "outputs": [
    {
     "data": {
      "text/plain": [
       "([Int64, Float64], [Int64, Float64, Float64])"
      ]
     },
     "execution_count": 2,
     "metadata": {},
     "output_type": "execute_result"
    }
   ],
   "source": [
    "start = pl.DataFrame(\n",
    "    {\n",
    "        \"int\": [1, 2, 3],\n",
    "        \"float\": [1.0, 2.0, 3.0],\n",
    "    }\n",
    ")\n",
    "sum = start.with_columns(sum=pl.col(\"int\") + pl.col(\"float\"))\n",
    "start.dtypes, sum.dtypes"
   ]
  },
  {
   "cell_type": "code",
   "execution_count": 3,
   "metadata": {},
   "outputs": [
    {
     "data": {
      "text/html": [
       "<div><style>\n",
       ".dataframe > thead > tr,\n",
       ".dataframe > tbody > tr {\n",
       "  text-align: right;\n",
       "  white-space: pre-wrap;\n",
       "}\n",
       "</style>\n",
       "<small>shape: (4, 3)</small><table border=\"1\" class=\"dataframe\"><thead><tr><th>unit</th><th>unit_op</th><th>polars</th></tr><tr><td>struct[2]</td><td>struct[2]</td><td>f64</td></tr></thead><tbody><tr><td>{-1.0,&quot;m&quot;}</td><td>{1.0,&quot;m&quot;}</td><td>1.0</td></tr><tr><td>{0.0,&quot;m&quot;}</td><td>{0.0,&quot;m&quot;}</td><td>0.0</td></tr><tr><td>{1.0,&quot;m&quot;}</td><td>{1.0,&quot;m&quot;}</td><td>1.0</td></tr><tr><td>{2.0,&quot;m&quot;}</td><td>{2.0,&quot;m&quot;}</td><td>2.0</td></tr></tbody></table></div>"
      ],
      "text/plain": [
       "shape: (4, 3)\n",
       "┌────────────┬───────────┬────────┐\n",
       "│ unit       ┆ unit_op   ┆ polars │\n",
       "│ ---        ┆ ---       ┆ ---    │\n",
       "│ struct[2]  ┆ struct[2] ┆ f64    │\n",
       "╞════════════╪═══════════╪════════╡\n",
       "│ {-1.0,\"m\"} ┆ {1.0,\"m\"} ┆ 1.0    │\n",
       "│ {0.0,\"m\"}  ┆ {0.0,\"m\"} ┆ 0.0    │\n",
       "│ {1.0,\"m\"}  ┆ {1.0,\"m\"} ┆ 1.0    │\n",
       "│ {2.0,\"m\"}  ┆ {2.0,\"m\"} ┆ 2.0    │\n",
       "└────────────┴───────────┴────────┘"
      ]
     },
     "execution_count": 3,
     "metadata": {},
     "output_type": "execute_result"
    }
   ],
   "source": [
    "unit_dtype = pl.Struct(\n",
    "    {\n",
    "        \"value\": pl.Float64,\n",
    "        \"unit\": pl.String,\n",
    "    }\n",
    ")\n",
    "\n",
    "\n",
    "unit_op = plu.abs\n",
    "polars_op = lambda x: x.abs()\n",
    "\n",
    "df = pl.DataFrame(\n",
    "    {\n",
    "        \"unit\": pl.Series(\n",
    "            [\n",
    "                (-1, \"m\"),\n",
    "                (0, \"m\"),\n",
    "                (1, \"m\"),\n",
    "                (2, \"m\"),\n",
    "            ],\n",
    "            dtype=unit_dtype,\n",
    "        ),\n",
    "    }\n",
    ")\n",
    "(\n",
    "    df.with_columns(unit_op=unit_op(\"unit\")).with_columns(\n",
    "        polars=polars_op(pl.col(\"unit\").struct.field(\"value\"))\n",
    "    )  # .all())[\"equal\"]\n",
    "    # .item()\n",
    ")"
   ]
  },
  {
   "cell_type": "code",
   "execution_count": 4,
   "metadata": {},
   "outputs": [
    {
     "data": {
      "text/html": [
       "<div><style>\n",
       ".dataframe > thead > tr,\n",
       ".dataframe > tbody > tr {\n",
       "  text-align: right;\n",
       "  white-space: pre-wrap;\n",
       "}\n",
       "</style>\n",
       "<small>shape: (4, 3)</small><table border=\"1\" class=\"dataframe\"><thead><tr><th>unit</th><th>unit_noop</th><th>equal</th></tr><tr><td>struct[2]</td><td>struct[2]</td><td>bool</td></tr></thead><tbody><tr><td>{-1.0,&quot;m&quot;}</td><td>{-1.0,&quot;m&quot;}</td><td>true</td></tr><tr><td>{0.0,&quot;m&quot;}</td><td>{0.0,&quot;m&quot;}</td><td>true</td></tr><tr><td>{1.0,&quot;m&quot;}</td><td>{1.0,&quot;m&quot;}</td><td>true</td></tr><tr><td>{2.0,&quot;m&quot;}</td><td>{2.0,&quot;m&quot;}</td><td>true</td></tr></tbody></table></div>"
      ],
      "text/plain": [
       "shape: (4, 3)\n",
       "┌────────────┬────────────┬───────┐\n",
       "│ unit       ┆ unit_noop  ┆ equal │\n",
       "│ ---        ┆ ---        ┆ ---   │\n",
       "│ struct[2]  ┆ struct[2]  ┆ bool  │\n",
       "╞════════════╪════════════╪═══════╡\n",
       "│ {-1.0,\"m\"} ┆ {-1.0,\"m\"} ┆ true  │\n",
       "│ {0.0,\"m\"}  ┆ {0.0,\"m\"}  ┆ true  │\n",
       "│ {1.0,\"m\"}  ┆ {1.0,\"m\"}  ┆ true  │\n",
       "│ {2.0,\"m\"}  ┆ {2.0,\"m\"}  ┆ true  │\n",
       "└────────────┴────────────┴───────┘"
      ]
     },
     "execution_count": 4,
     "metadata": {},
     "output_type": "execute_result"
    }
   ],
   "source": [
    "df = df.with_columns(unit_noop=plu.noop(\"unit\")).with_columns(\n",
    "    equal=(pl.col(\"unit_noop\") == pl.col(\"unit\"))\n",
    ")\n",
    "df"
   ]
  },
  {
   "cell_type": "code",
   "execution_count": 5,
   "metadata": {},
   "outputs": [
    {
     "data": {
      "text/plain": [
       "[Struct({'value': Float64, 'unit': String}),\n",
       " Struct({'value': Float64, 'unit': String}),\n",
       " Boolean]"
      ]
     },
     "execution_count": 5,
     "metadata": {},
     "output_type": "execute_result"
    }
   ],
   "source": [
    "df.dtypes"
   ]
  },
  {
   "cell_type": "code",
   "execution_count": 6,
   "metadata": {},
   "outputs": [
    {
     "data": {
      "text/html": [
       "<div><style>\n",
       ".dataframe > thead > tr,\n",
       ".dataframe > tbody > tr {\n",
       "  text-align: right;\n",
       "  white-space: pre-wrap;\n",
       "}\n",
       "</style>\n",
       "<small>shape: (4, 3)</small><table border=\"1\" class=\"dataframe\"><thead><tr><th>unit</th><th>unit_noop</th><th>equal</th></tr><tr><td>struct[2]</td><td>struct[2]</td><td>bool</td></tr></thead><tbody><tr><td>{-2.0,&quot;m&quot;}</td><td>{-1.0,&quot;m&quot;}</td><td>true</td></tr><tr><td>{0.0,&quot;m&quot;}</td><td>{0.0,&quot;m&quot;}</td><td>true</td></tr><tr><td>{2.0,&quot;m&quot;}</td><td>{1.0,&quot;m&quot;}</td><td>true</td></tr><tr><td>{4.0,&quot;m&quot;}</td><td>{2.0,&quot;m&quot;}</td><td>true</td></tr></tbody></table></div>"
      ],
      "text/plain": [
       "shape: (4, 3)\n",
       "┌────────────┬────────────┬───────┐\n",
       "│ unit       ┆ unit_noop  ┆ equal │\n",
       "│ ---        ┆ ---        ┆ ---   │\n",
       "│ struct[2]  ┆ struct[2]  ┆ bool  │\n",
       "╞════════════╪════════════╪═══════╡\n",
       "│ {-2.0,\"m\"} ┆ {-1.0,\"m\"} ┆ true  │\n",
       "│ {0.0,\"m\"}  ┆ {0.0,\"m\"}  ┆ true  │\n",
       "│ {2.0,\"m\"}  ┆ {1.0,\"m\"}  ┆ true  │\n",
       "│ {4.0,\"m\"}  ┆ {2.0,\"m\"}  ┆ true  │\n",
       "└────────────┴────────────┴───────┘"
      ]
     },
     "execution_count": 6,
     "metadata": {},
     "output_type": "execute_result"
    }
   ],
   "source": [
    "df.with_columns(plu.add(\"unit\", \"unit\"))"
   ]
  },
  {
   "cell_type": "code",
   "execution_count": null,
   "metadata": {},
   "outputs": [],
   "source": []
  },
  {
   "cell_type": "code",
   "execution_count": 7,
   "metadata": {},
   "outputs": [],
   "source": [
    "series = pl.Series([1,2,3,4,5])\n",
    "dtype = pl.Struct({\"value\": series.dtype, \"unit\": pl.String})"
   ]
  },
  {
   "cell_type": "code",
   "execution_count": 8,
   "metadata": {},
   "outputs": [
    {
     "data": {
      "text/plain": [
       "Struct({'value': Int64, 'unit': String})"
      ]
     },
     "execution_count": 8,
     "metadata": {},
     "output_type": "execute_result"
    }
   ],
   "source": [
    "pl.struct(value = series, unit =  pl.lit(\"hello\"), eager=True).dtype"
   ]
  },
  {
   "cell_type": "code",
   "execution_count": 16,
   "metadata": {},
   "outputs": [],
   "source": [
    "df = pl.DataFrame({'unit': pl.Series([1,2,3]).unit.with_unit(\"m\")})"
   ]
  },
  {
   "cell_type": "code",
   "execution_count": 15,
   "metadata": {},
   "outputs": [
    {
     "ename": "ColumnNotFoundError",
     "evalue": "unit",
     "output_type": "error",
     "traceback": [
      "\u001b[0;31m---------------------------------------------------------------------------\u001b[0m",
      "\u001b[0;31mColumnNotFoundError\u001b[0m                       Traceback (most recent call last)",
      "Cell \u001b[0;32mIn[15], line 2\u001b[0m\n\u001b[1;32m      1\u001b[0m (\u001b[43mdf\u001b[49m\u001b[38;5;241;43m.\u001b[39;49m\u001b[43mselect\u001b[49m\u001b[43m(\u001b[49m\u001b[43munit_op\u001b[49m\u001b[38;5;241;43m=\u001b[39;49m\u001b[43mplu\u001b[49m\u001b[38;5;241;43m.\u001b[39;49m\u001b[43mmean\u001b[49m\u001b[43m(\u001b[49m\u001b[38;5;124;43m\"\u001b[39;49m\u001b[38;5;124;43munit\u001b[39;49m\u001b[38;5;124;43m\"\u001b[39;49m\u001b[43m)\u001b[49m\u001b[43m)\u001b[49m\n\u001b[0;32m----> 2\u001b[0m \u001b[38;5;241;43m.\u001b[39;49m\u001b[43mwith_columns\u001b[49m\u001b[43m(\u001b[49m\n\u001b[1;32m      3\u001b[0m \u001b[43m    \u001b[49m\u001b[43mequal\u001b[49m\u001b[38;5;241;43m=\u001b[39;49m\u001b[43m(\u001b[49m\n\u001b[1;32m      4\u001b[0m \u001b[43m        \u001b[49m\u001b[43mpl\u001b[49m\u001b[38;5;241;43m.\u001b[39;49m\u001b[43mcol\u001b[49m\u001b[43m(\u001b[49m\u001b[38;5;124;43m\"\u001b[39;49m\u001b[38;5;124;43munit_op\u001b[39;49m\u001b[38;5;124;43m\"\u001b[39;49m\u001b[43m)\u001b[49m\u001b[38;5;241;43m.\u001b[39;49m\u001b[43mstruct\u001b[49m\u001b[38;5;241;43m.\u001b[39;49m\u001b[43mfield\u001b[49m\u001b[43m(\u001b[49m\u001b[38;5;124;43m\"\u001b[39;49m\u001b[38;5;124;43mvalue\u001b[39;49m\u001b[38;5;124;43m\"\u001b[39;49m\u001b[43m)\u001b[49m\n\u001b[1;32m      5\u001b[0m \u001b[43m        \u001b[49m\u001b[38;5;241;43m==\u001b[39;49m\u001b[43m \u001b[49m\u001b[43mpolars_op\u001b[49m\u001b[43m(\u001b[49m\u001b[43mpl\u001b[49m\u001b[38;5;241;43m.\u001b[39;49m\u001b[43mcol\u001b[49m\u001b[43m(\u001b[49m\u001b[38;5;124;43m\"\u001b[39;49m\u001b[38;5;124;43munit\u001b[39;49m\u001b[38;5;124;43m\"\u001b[39;49m\u001b[43m)\u001b[49m\u001b[38;5;241;43m.\u001b[39;49m\u001b[43mstruct\u001b[49m\u001b[38;5;241;43m.\u001b[39;49m\u001b[43mfield\u001b[49m\u001b[43m(\u001b[49m\u001b[38;5;124;43m\"\u001b[39;49m\u001b[38;5;124;43mvalue\u001b[39;49m\u001b[38;5;124;43m\"\u001b[39;49m\u001b[43m)\u001b[49m\u001b[43m)\u001b[49m\n\u001b[1;32m      6\u001b[0m \u001b[43m    \u001b[49m\u001b[43m)\u001b[49m\u001b[38;5;241;43m.\u001b[39;49m\u001b[43mall\u001b[49m\u001b[43m(\u001b[49m\u001b[43m)\u001b[49m\n\u001b[1;32m      7\u001b[0m \u001b[43m)\u001b[49m)\n",
      "File \u001b[0;32m~/development/polars_unit/.pixi/envs/default/lib/python3.13/site-packages/polars/dataframe/frame.py:9495\u001b[0m, in \u001b[0;36mDataFrame.with_columns\u001b[0;34m(self, *exprs, **named_exprs)\u001b[0m\n\u001b[1;32m   9349\u001b[0m \u001b[38;5;28;01mdef\u001b[39;00m \u001b[38;5;21mwith_columns\u001b[39m(\n\u001b[1;32m   9350\u001b[0m     \u001b[38;5;28mself\u001b[39m,\n\u001b[1;32m   9351\u001b[0m     \u001b[38;5;241m*\u001b[39mexprs: IntoExpr \u001b[38;5;241m|\u001b[39m Iterable[IntoExpr],\n\u001b[1;32m   9352\u001b[0m     \u001b[38;5;241m*\u001b[39m\u001b[38;5;241m*\u001b[39mnamed_exprs: IntoExpr,\n\u001b[1;32m   9353\u001b[0m ) \u001b[38;5;241m-\u001b[39m\u001b[38;5;241m>\u001b[39m DataFrame:\n\u001b[1;32m   9354\u001b[0m \u001b[38;5;250m    \u001b[39m\u001b[38;5;124;03m\"\"\"\u001b[39;00m\n\u001b[1;32m   9355\u001b[0m \u001b[38;5;124;03m    Add columns to this DataFrame.\u001b[39;00m\n\u001b[1;32m   9356\u001b[0m \n\u001b[0;32m   (...)\u001b[0m\n\u001b[1;32m   9493\u001b[0m \u001b[38;5;124;03m    └─────┴──────┴─────────────┘\u001b[39;00m\n\u001b[1;32m   9494\u001b[0m \u001b[38;5;124;03m    \"\"\"\u001b[39;00m\n\u001b[0;32m-> 9495\u001b[0m     \u001b[38;5;28;01mreturn\u001b[39;00m \u001b[38;5;28;43mself\u001b[39;49m\u001b[38;5;241;43m.\u001b[39;49m\u001b[43mlazy\u001b[49m\u001b[43m(\u001b[49m\u001b[43m)\u001b[49m\u001b[38;5;241;43m.\u001b[39;49m\u001b[43mwith_columns\u001b[49m\u001b[43m(\u001b[49m\u001b[38;5;241;43m*\u001b[39;49m\u001b[43mexprs\u001b[49m\u001b[43m,\u001b[49m\u001b[43m \u001b[49m\u001b[38;5;241;43m*\u001b[39;49m\u001b[38;5;241;43m*\u001b[39;49m\u001b[43mnamed_exprs\u001b[49m\u001b[43m)\u001b[49m\u001b[38;5;241;43m.\u001b[39;49m\u001b[43mcollect\u001b[49m\u001b[43m(\u001b[49m\u001b[43m_eager\u001b[49m\u001b[38;5;241;43m=\u001b[39;49m\u001b[38;5;28;43;01mTrue\u001b[39;49;00m\u001b[43m)\u001b[49m\n",
      "File \u001b[0;32m~/development/polars_unit/.pixi/envs/default/lib/python3.13/site-packages/polars/lazyframe/frame.py:2031\u001b[0m, in \u001b[0;36mLazyFrame.collect\u001b[0;34m(self, type_coercion, predicate_pushdown, projection_pushdown, simplify_expression, slice_pushdown, comm_subplan_elim, comm_subexpr_elim, cluster_with_columns, collapse_joins, no_optimization, streaming, engine, background, _eager, **_kwargs)\u001b[0m\n\u001b[1;32m   2029\u001b[0m \u001b[38;5;66;03m# Only for testing purposes\u001b[39;00m\n\u001b[1;32m   2030\u001b[0m callback \u001b[38;5;241m=\u001b[39m _kwargs\u001b[38;5;241m.\u001b[39mget(\u001b[38;5;124m\"\u001b[39m\u001b[38;5;124mpost_opt_callback\u001b[39m\u001b[38;5;124m\"\u001b[39m, callback)\n\u001b[0;32m-> 2031\u001b[0m \u001b[38;5;28;01mreturn\u001b[39;00m wrap_df(\u001b[43mldf\u001b[49m\u001b[38;5;241;43m.\u001b[39;49m\u001b[43mcollect\u001b[49m\u001b[43m(\u001b[49m\u001b[43mcallback\u001b[49m\u001b[43m)\u001b[49m)\n",
      "\u001b[0;31mColumnNotFoundError\u001b[0m: unit"
     ]
    }
   ],
   "source": [
    "(df.select(unit_op=plu.mean(\"unit\"))\n",
    ".with_columns(\n",
    "    equal=(\n",
    "        pl.col(\"unit_op\").struct.field(\"value\")\n",
    "        == polars_op(pl.col(\"unit\").struct.field(\"value\"))\n",
    "    ).all()\n",
    "))"
   ]
  },
  {
   "cell_type": "code",
   "execution_count": null,
   "metadata": {},
   "outputs": [],
   "source": []
  }
 ],
 "metadata": {
  "kernelspec": {
   "display_name": "Python 3 (ipykernel)",
   "language": "python",
   "name": "python3"
  },
  "language_info": {
   "codemirror_mode": {
    "name": "ipython",
    "version": 3
   },
   "file_extension": ".py",
   "mimetype": "text/x-python",
   "name": "python",
   "nbconvert_exporter": "python",
   "pygments_lexer": "ipython3",
   "version": "3.13.1"
  }
 },
 "nbformat": 4,
 "nbformat_minor": 4
}
