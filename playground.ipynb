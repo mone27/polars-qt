{
 "cells": [
  {
   "cell_type": "code",
   "execution_count": 1,
   "metadata": {},
   "outputs": [],
   "source": [
    "import polars as pl\n",
    "import polars_qt as pqt"
   ]
  },
  {
   "cell_type": "code",
   "execution_count": 2,
   "metadata": {},
   "outputs": [
    {
     "data": {
      "text/html": [
       "<div><style>\n",
       ".dataframe > thead > tr,\n",
       ".dataframe > tbody > tr {\n",
       "  text-align: right;\n",
       "  white-space: pre-wrap;\n",
       "}\n",
       "</style>\n",
       "<small>shape: (3, 1)</small><table border=\"1\" class=\"dataframe\"><thead><tr><th>a</th></tr><tr><td>struct[2]</td></tr></thead><tbody><tr><td>{1,[{&quot;m&quot;,{1,1}}]}</td></tr><tr><td>{2,[{&quot;m&quot;,{1,1}}]}</td></tr><tr><td>{3,[{&quot;m&quot;,{1,1}}]}</td></tr></tbody></table></div>"
      ],
      "text/plain": [
       "shape: (3, 1)\n",
       "┌───────────────────┐\n",
       "│ a                 │\n",
       "│ ---               │\n",
       "│ struct[2]         │\n",
       "╞═══════════════════╡\n",
       "│ {1,[{\"m\",{1,1}}]} │\n",
       "│ {2,[{\"m\",{1,1}}]} │\n",
       "│ {3,[{\"m\",{1,1}}]} │\n",
       "└───────────────────┘"
      ]
     },
     "execution_count": 2,
     "metadata": {},
     "output_type": "execute_result"
    }
   ],
   "source": [
    "df = pl.DataFrame({\"a\": pl.Series([1, 2, 3]).qt.with_unit([(\"m\", (1, 1))])})\n",
    "df"
   ]
  },
  {
   "cell_type": "code",
   "execution_count": 3,
   "metadata": {},
   "outputs": [
    {
     "data": {
      "text/plain": [
       "[Struct({'value': Int64, 'unit': List(Struct({'name': String, 'power': Struct({'numer': Int64, 'denom': Int64})}))})]"
      ]
     },
     "execution_count": 3,
     "metadata": {},
     "output_type": "execute_result"
    }
   ],
   "source": [
    "df.dtypes"
   ]
  },
  {
   "cell_type": "code",
   "execution_count": 4,
   "metadata": {},
   "outputs": [
    {
     "name": "stdout",
     "output_type": "stream",
     "text": [
      "input: shape: (3,)\n",
      "Series: 'a' [struct[2]]\n",
      "[\n",
      "\t{1,[{\"m\",{1,1}}]}\n",
      "\t{2,[{\"m\",{1,1}}]}\n",
      "\t{3,[{\"m\",{1,1}}]}\n",
      "]\n",
      "result: shape: (3,)\n",
      "Series: 'value' [i64]\n",
      "[\n",
      "\t1\n",
      "\t2\n",
      "\t3\n",
      "]\n",
      "unit: shape: (3,)\n",
      "Series: 'unit' [list[struct[2]]]\n",
      "[\n",
      "\t[{\"m\",{1,1}}]\n",
      "\t[{\"m\",{1,1}}]\n"
     ]
    },
    {
     "data": {
      "text/html": [
       "<div><style>\n",
       ".dataframe > thead > tr,\n",
       ".dataframe > tbody > tr {\n",
       "  text-align: right;\n",
       "  white-space: pre-wrap;\n",
       "}\n",
       "</style>\n",
       "<small>shape: (3, 1)</small><table border=\"1\" class=\"dataframe\"><thead><tr><th>a</th></tr><tr><td>struct[2]</td></tr></thead><tbody><tr><td>{1,[{&quot;m&quot;,{1,1}}]}</td></tr><tr><td>{2,[{&quot;m&quot;,{1,1}}]}</td></tr><tr><td>{3,[{&quot;m&quot;,{1,1}}]}</td></tr></tbody></table></div>"
      ],
      "text/plain": [
       "shape: (3, 1)\n",
       "┌───────────────────┐\n",
       "│ a                 │\n",
       "│ ---               │\n",
       "│ struct[2]         │\n",
       "╞═══════════════════╡\n",
       "│ {1,[{\"m\",{1,1}}]} │\n",
       "│ {2,[{\"m\",{1,1}}]} │\n",
       "│ {3,[{\"m\",{1,1}}]} │\n",
       "└───────────────────┘"
      ]
     },
     "execution_count": 4,
     "metadata": {},
     "output_type": "execute_result"
    },
    {
     "name": "stdout",
     "output_type": "stream",
     "text": [
      "\t[{\"m\",{1,1}}]\n",
      "]\n",
      "add_unit: unit_val: Scalar { dtype: List(Struct([Field { name: \"name\", dtype: String }, Field { name: \"power\", dtype: Struct([Field { name: \"numer\", dtype: Int64 }, Field { name: \"denom\", dtype: Int64 }]) }])), value: List(shape: (1,)\n",
      "Series: '' [struct[2]]\n",
      "[\n",
      "\t{\"m\",{1,1}}\n",
      "]) }\n"
     ]
    }
   ],
   "source": [
    "df.select(pl.col(\"a\").qt.noop())"
   ]
  },
  {
   "cell_type": "code",
   "execution_count": 48,
   "metadata": {},
   "outputs": [
    {
     "data": {
      "text/plain": [
       "{'value': 1, 'unit': [{'name': 'm', 'power': {'numer': 1, 'denom': 1}}]}"
      ]
     },
     "execution_count": 48,
     "metadata": {},
     "output_type": "execute_result"
    }
   ],
   "source": [
    "df['a']"
   ]
  },
  {
   "cell_type": "markdown",
   "metadata": {},
   "source": [
    "Numeric cast in polars"
   ]
  },
  {
   "cell_type": "code",
   "execution_count": 5,
   "metadata": {},
   "outputs": [
    {
     "data": {
      "text/plain": [
       "([Int64, Float64], [Int64, Float64, Float64])"
      ]
     },
     "execution_count": 5,
     "metadata": {},
     "output_type": "execute_result"
    }
   ],
   "source": [
    "start = pl.DataFrame(\n",
    "    {\n",
    "        \"int\": [1, 2, 3],\n",
    "        \"float\": [1.0, 2.0, 3.0],\n",
    "    }\n",
    ")\n",
    "sum = start.with_columns(sum=pl.col(\"int\") + pl.col(\"float\"))\n",
    "start.dtypes, sum.dtypes"
   ]
  },
  {
   "cell_type": "code",
   "execution_count": 6,
   "metadata": {},
   "outputs": [],
   "source": [
    "series = pl.Series([1, 2, 3, 4, 5])\n",
    "dtype = pl.Struct({\"value\": series.dtype, \"unit\": pl.String})"
   ]
  },
  {
   "cell_type": "code",
   "execution_count": 7,
   "metadata": {},
   "outputs": [
    {
     "data": {
      "text/plain": [
       "Struct({'value': Int64, 'unit': String})"
      ]
     },
     "execution_count": 7,
     "metadata": {},
     "output_type": "execute_result"
    }
   ],
   "source": [
    "pl.struct(value=series, unit=pl.lit(\"hello\"), eager=True).dtype"
   ]
  },
  {
   "cell_type": "markdown",
   "metadata": {},
   "source": [
    "## Pint"
   ]
  },
  {
   "cell_type": "code",
   "execution_count": 4,
   "metadata": {},
   "outputs": [],
   "source": [
    "import pint"
   ]
  },
  {
   "cell_type": "code",
   "execution_count": 9,
   "metadata": {},
   "outputs": [],
   "source": [
    "ureg = pint.UnitRegistry()"
   ]
  },
  {
   "cell_type": "code",
   "execution_count": 10,
   "metadata": {},
   "outputs": [
    {
     "data": {
      "text/plain": [
       "dict_items([('kilometer', 1), ('hour', -1)])"
      ]
     },
     "execution_count": 10,
     "metadata": {},
     "output_type": "execute_result"
    }
   ],
   "source": [
    "(1 * ureg.meter / ureg.second).to(\"km/h\").units._units.unit_items()"
   ]
  },
  {
   "cell_type": "code",
   "execution_count": 35,
   "metadata": {},
   "outputs": [],
   "source": [
    "frac_unit = (2 * ureg.meter) ** (1/2) * ureg.second"
   ]
  },
  {
   "cell_type": "code",
   "execution_count": 38,
   "metadata": {},
   "outputs": [
    {
     "name": "stdout",
     "output_type": "stream",
     "text": [
      "\u001b[0;31mType:\u001b[0m        UnitsContainer\n",
      "\u001b[0;31mString form:\u001b[0m meter ** 0.5 * second\n",
      "\u001b[0;31mLength:\u001b[0m      2\n",
      "\u001b[0;31mFile:\u001b[0m        ~/development/polars-qt/.pixi/envs/default/lib/python3.13/site-packages/pint/util.py\n",
      "\u001b[0;31mDocstring:\u001b[0m  \n",
      "The UnitsContainer stores the product of units and their respective\n",
      "exponent and implements the corresponding operations.\n",
      "\n",
      "UnitsContainer is a read-only mapping. All operations (even in place ones)\n",
      "return new instances.\n",
      "\n",
      "Parameters\n",
      "----------\n",
      "non_int_type\n",
      "    Numerical type used for non integer values."
     ]
    }
   ],
   "source": [
    "frac_unit.units._units?"
   ]
  },
  {
   "cell_type": "code",
   "execution_count": 30,
   "metadata": {},
   "outputs": [],
   "source": [
    "from polars_qt.pint import pint_to_pqt, pqt_to_pint, QtQuantity, QtUnit\n",
    "from dataclasses import asdict"
   ]
  },
  {
   "cell_type": "code",
   "execution_count": 31,
   "metadata": {},
   "outputs": [],
   "source": [
    "qt_unit = pint_to_pqt(ureg.meter)"
   ]
  },
  {
   "cell_type": "code",
   "execution_count": 39,
   "metadata": {},
   "outputs": [],
   "source": [
    "def pqt_to_pint(units: list[QtUnit]) -> pint.Unit:\n",
    "    \"\"\"\n",
    "    Convert a list of QtUnit to a pint unit\n",
    "    \"\"\"\n",
    "    return ureg.Unit(pint.util.UnitsContainer({unit.name: unit.power for unit in units}))"
   ]
  },
  {
   "cell_type": "code",
   "execution_count": 40,
   "metadata": {},
   "outputs": [
    {
     "data": {
      "text/html": [
       "meter"
      ],
      "text/latex": [
       "$\\mathrm{meter}$"
      ],
      "text/plain": [
       "<Unit('meter')>"
      ]
     },
     "execution_count": 40,
     "metadata": {},
     "output_type": "execute_result"
    }
   ],
   "source": [
    "pqt_to_pint(qt_unit)"
   ]
  },
  {
   "cell_type": "code",
   "execution_count": null,
   "metadata": {},
   "outputs": [],
   "source": []
  },
  {
   "cell_type": "code",
   "execution_count": 45,
   "metadata": {},
   "outputs": [
    {
     "data": {
      "text/plain": [
       "{'name': 'meter', 'power': Fraction(1, 1)}"
      ]
     },
     "execution_count": 45,
     "metadata": {},
     "output_type": "execute_result"
    }
   ],
   "source": [
    "asdict(qt_unit[0])"
   ]
  },
  {
   "cell_type": "markdown",
   "metadata": {},
   "source": [
    "# Parse pint units"
   ]
  },
  {
   "cell_type": "markdown",
   "metadata": {},
   "source": [
    "```json\n",
    "{\n",
    "  \"$schema\": \"http://json-schema.org/draft-07/schema#\",\n",
    "  \"title\": \"Units and Dimensions Schema\",\n",
    "  \"type\": \"object\",\n",
    "  \"properties\": {\n",
    "    \"units\": {\n",
    "      \"type\": \"object\",\n",
    "      \"patternProperties\": {\n",
    "        \"^[a-zA-Z_]+$\": {\n",
    "          \"type\": \"object\",\n",
    "          \"properties\": {\n",
    "            \"relation\": {\n",
    "              \"type\": \"object\",\n",
    "              \"properties\": {\n",
    "                \"operation\": { \"type\": \"string\" },\n",
    "                \"left\": { \"type\": \"string\" },\n",
    "                \"right\": { \"type\": \"string\" },\n",
    "                \"base\": { \"type\": \"string\" },\n",
    "                \"exponent\": { \"type\": \"number\" },\n",
    "                \"numerator\": { \"type\": [\"string\", \"number\"] },\n",
    "                \"denominator\": { \"type\": [\"string\", \"number\"] }\n",
    "              },\n",
    "              \"required\": [\"operation\"]\n",
    "            },\n",
    "            \"symbol\": { \"type\": \"string\" },\n",
    "            \"aliases\": {\n",
    "              \"type\": \"array\",\n",
    "              \"items\": { \"type\": \"string\" }\n",
    "            }\n",
    "          },\n",
    "          \"required\": [\"relation\"]\n",
    "        }\n",
    "      },\n",
    "      \"additionalProperties\": false\n",
    "    },\n",
    "    \"prefixes\": {\n",
    "      \"type\": \"object\",\n",
    "      \"patternProperties\": {\n",
    "        \"^[a-zA-Z_]+-$\": {\n",
    "          \"type\": \"object\",\n",
    "          \"properties\": {\n",
    "            \"amount\": { \"type\": \"string\" },\n",
    "            \"symbol\": { \"type\": \"string\" },\n",
    "            \"aliases\": {\n",
    "              \"type\": \"array\",\n",
    "              \"items\": { \"type\": \"string\" }\n",
    "            }\n",
    "          },\n",
    "          \"required\": [\"amount\"]\n",
    "        }\n",
    "      },\n",
    "      \"additionalProperties\": false\n",
    "    },\n",
    "    \"derived_dimensions\": {\n",
    "      \"type\": \"object\",\n",
    "      \"patternProperties\": {\n",
    "        \"^[a-zA-Z_]+$\": {\n",
    "          \"type\": \"object\",\n",
    "          \"properties\": {\n",
    "            \"operation\": { \"type\": \"string\" },\n",
    "            \"left\": { \"type\": \"string\" },\n",
    "            \"right\": { \"type\": \"string\" }\n",
    "          },\n",
    "          \"required\": [\"operation\", \"left\", \"right\"]\n",
    "        }\n",
    "      },\n",
    "      \"additionalProperties\": false\n",
    "    },\n",
    "    \"aliases\": {\n",
    "      \"type\": \"object\",\n",
    "      \"patternProperties\": {\n",
    "        \"^[a-zA-Z_]+$\": {\n",
    "          \"type\": \"array\",\n",
    "          \"items\": { \"type\": \"string\" }\n",
    "        }\n",
    "      },\n",
    "      \"additionalProperties\": false\n",
    "    },\n",
    "    \"defaults\": {\n",
    "      \"type\": \"object\",\n",
    "      \"properties\": {\n",
    "        \"group\": { \"type\": \"string\" },\n",
    "        \"system\": { \"type\": \"string\" }\n",
    "      },\n",
    "      \"required\": [\"group\", \"system\"]\n",
    "    }\n",
    "  },\n",
    "  \"required\": [\"units\", \"prefixes\", \"derived_dimensions\", \"aliases\", \"defaults\"]\n",
    "}\n",
    "```"
   ]
  },
  {
   "cell_type": "code",
   "execution_count": null,
   "metadata": {},
   "outputs": [],
   "source": []
  }
 ],
 "metadata": {
  "kernelspec": {
   "display_name": "default",
   "language": "python",
   "name": "python3"
  },
  "language_info": {
   "codemirror_mode": {
    "name": "ipython",
    "version": 3
   },
   "file_extension": ".py",
   "mimetype": "text/x-python",
   "name": "python",
   "nbconvert_exporter": "python",
   "pygments_lexer": "ipython3",
   "version": "3.13.1"
  }
 },
 "nbformat": 4,
 "nbformat_minor": 4
}
