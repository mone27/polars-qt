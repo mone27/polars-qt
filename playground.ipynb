{
 "cells": [
  {
   "cell_type": "code",
   "execution_count": null,
   "metadata": {},
   "outputs": [],
   "source": [
    "import polars as pl\n",
    "from polars_unit import unit_sum\n",
    "\n",
    "quantity = pl.Struct({\n",
    "    'value': pl.Int64,\n",
    "    'unit': pl.String,\n",
    "})\n",
    "\n",
    "\n",
    "df = pl.DataFrame({\n",
    "    'a': pl.Series([\n",
    "        (1, 'm'),\n",
    "        (2, 'm'),\n",
    "        (3, 'm'),\n",
    "        (4, 'm'),\n",
    "        (5, 'm'),\n",
    "    ], dtype=quantity),\n",
    "    \n",
    "    'b': pl.Series([\n",
    "        (1, 'm'),\n",
    "        (2, 'm'),\n",
    "        (3, 'm'),\n",
    "        (4, 'm'),\n",
    "        (5, 'm'),\n",
    "    ], dtype=quantity),\n",
    "    'c': [1,2,3, 4, 5]\n",
    "})\n",
    "\n",
    "\n",
    "result = df.with_columns(sum = unit_sum(\"a\"), sum2 = unit_sum(\"c\"))\n",
    "print(result)"
   ]
  },
  {
   "cell_type": "code",
   "execution_count": null,
   "metadata": {},
   "outputs": [],
   "source": []
  }
 ],
 "metadata": {
  "language_info": {
   "name": "python"
  }
 },
 "nbformat": 4,
 "nbformat_minor": 2
}
