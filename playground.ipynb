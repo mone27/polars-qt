{
 "cells": [
  {
   "cell_type": "code",
   "execution_count": 1,
   "metadata": {},
   "outputs": [
    {
     "data": {
      "text/html": [
       "<div><style>\n",
       ".dataframe > thead > tr,\n",
       ".dataframe > tbody > tr {\n",
       "  text-align: right;\n",
       "  white-space: pre-wrap;\n",
       "}\n",
       "</style>\n",
       "<small>shape: (5, 4)</small><table border=\"1\" class=\"dataframe\"><thead><tr><th>a</th><th>b</th><th>c</th><th>aa</th></tr><tr><td>struct[2]</td><td>struct[2]</td><td>i64</td><td>struct[2]</td></tr></thead><tbody><tr><td>{1,&quot;m&quot;}</td><td>{1,&quot;m&quot;}</td><td>1</td><td>{1,&quot;m&quot;}</td></tr><tr><td>{2,&quot;m&quot;}</td><td>{2,&quot;m&quot;}</td><td>2</td><td>{2,&quot;m&quot;}</td></tr><tr><td>{3,&quot;m&quot;}</td><td>{3,&quot;m&quot;}</td><td>3</td><td>{3,&quot;m&quot;}</td></tr><tr><td>{4,&quot;m&quot;}</td><td>{4,&quot;m&quot;}</td><td>4</td><td>{4,&quot;m&quot;}</td></tr><tr><td>{5,&quot;m&quot;}</td><td>{5,&quot;m&quot;}</td><td>5</td><td>{5,&quot;m&quot;}</td></tr></tbody></table></div>"
      ],
      "text/plain": [
       "shape: (5, 4)\n",
       "┌───────────┬───────────┬─────┬───────────┐\n",
       "│ a         ┆ b         ┆ c   ┆ aa        │\n",
       "│ ---       ┆ ---       ┆ --- ┆ ---       │\n",
       "│ struct[2] ┆ struct[2] ┆ i64 ┆ struct[2] │\n",
       "╞═══════════╪═══════════╪═════╪═══════════╡\n",
       "│ {1,\"m\"}   ┆ {1,\"m\"}   ┆ 1   ┆ {1,\"m\"}   │\n",
       "│ {2,\"m\"}   ┆ {2,\"m\"}   ┆ 2   ┆ {2,\"m\"}   │\n",
       "│ {3,\"m\"}   ┆ {3,\"m\"}   ┆ 3   ┆ {3,\"m\"}   │\n",
       "│ {4,\"m\"}   ┆ {4,\"m\"}   ┆ 4   ┆ {4,\"m\"}   │\n",
       "│ {5,\"m\"}   ┆ {5,\"m\"}   ┆ 5   ┆ {5,\"m\"}   │\n",
       "└───────────┴───────────┴─────┴───────────┘"
      ]
     },
     "execution_count": 1,
     "metadata": {},
     "output_type": "execute_result"
    }
   ],
   "source": [
    "import polars as pl\n",
    "import polars_unit as plu\n",
    "\n",
    "quantity = pl.Struct({\n",
    "    'value': pl.Int64,\n",
    "    'unit': pl.String,\n",
    "})\n",
    "\n",
    "\n",
    "df = pl.DataFrame({\n",
    "    'a': pl.Series([\n",
    "        (1, 'm'),\n",
    "        (2, 'm'),\n",
    "        (3, 'm'),\n",
    "        (4, 'm'),\n",
    "        (5, 'm'),\n",
    "    ], dtype=quantity),\n",
    "    \n",
    "    'b': pl.Series([\n",
    "        (1, 'm'),\n",
    "        (2, 'm'),\n",
    "        (3, 'm'),\n",
    "        (4, 'm'),\n",
    "        (5, 'm'),\n",
    "    ], dtype=quantity),\n",
    "    'c': [1,2,3, 4, 5]\n",
    "})\n",
    "\n",
    "\n",
    "df.with_columns(aa = plu.abs(\"a\"))"
   ]
  },
  {
   "cell_type": "markdown",
   "metadata": {},
   "source": [
    "Numeric cast in polars"
   ]
  },
  {
   "cell_type": "code",
   "execution_count": 2,
   "metadata": {},
   "outputs": [
    {
     "data": {
      "text/plain": [
       "([Int64, Float64], [Int64, Float64, Float64])"
      ]
     },
     "execution_count": 2,
     "metadata": {},
     "output_type": "execute_result"
    }
   ],
   "source": [
    "start = pl.DataFrame({\n",
    "    'int': [1, 2, 3],\n",
    "    'float': [1.0, 2.0, 3.0],\n",
    "})\n",
    "sum = start.with_columns(sum = pl.col('int') + pl.col('float'))\n",
    "start.dtypes, sum.dtypes"
   ]
  },
  {
   "cell_type": "code",
   "execution_count": 3,
   "metadata": {},
   "outputs": [
    {
     "data": {
      "text/html": [
       "<div><style>\n",
       ".dataframe > thead > tr,\n",
       ".dataframe > tbody > tr {\n",
       "  text-align: right;\n",
       "  white-space: pre-wrap;\n",
       "}\n",
       "</style>\n",
       "<small>shape: (4, 3)</small><table border=\"1\" class=\"dataframe\"><thead><tr><th>unit</th><th>unit_op</th><th>polars</th></tr><tr><td>struct[2]</td><td>struct[2]</td><td>f64</td></tr></thead><tbody><tr><td>{-1.0,&quot;m&quot;}</td><td>{1.0,&quot;m&quot;}</td><td>1.0</td></tr><tr><td>{0.0,&quot;m&quot;}</td><td>{0.0,&quot;m&quot;}</td><td>0.0</td></tr><tr><td>{1.0,&quot;m&quot;}</td><td>{1.0,&quot;m&quot;}</td><td>1.0</td></tr><tr><td>{2.0,&quot;m&quot;}</td><td>{2.0,&quot;m&quot;}</td><td>2.0</td></tr></tbody></table></div>"
      ],
      "text/plain": [
       "shape: (4, 3)\n",
       "┌────────────┬───────────┬────────┐\n",
       "│ unit       ┆ unit_op   ┆ polars │\n",
       "│ ---        ┆ ---       ┆ ---    │\n",
       "│ struct[2]  ┆ struct[2] ┆ f64    │\n",
       "╞════════════╪═══════════╪════════╡\n",
       "│ {-1.0,\"m\"} ┆ {1.0,\"m\"} ┆ 1.0    │\n",
       "│ {0.0,\"m\"}  ┆ {0.0,\"m\"} ┆ 0.0    │\n",
       "│ {1.0,\"m\"}  ┆ {1.0,\"m\"} ┆ 1.0    │\n",
       "│ {2.0,\"m\"}  ┆ {2.0,\"m\"} ┆ 2.0    │\n",
       "└────────────┴───────────┴────────┘"
      ]
     },
     "execution_count": 3,
     "metadata": {},
     "output_type": "execute_result"
    }
   ],
   "source": [
    "unit_dtype = pl.Struct(\n",
    "    {\n",
    "        \"value\": pl.Float64,\n",
    "        \"unit\": pl.String,\n",
    "    }\n",
    ")\n",
    "\n",
    "\n",
    "unit_op = plu.abs\n",
    "polars_op = lambda x: x.abs()\n",
    "\n",
    "df = pl.DataFrame(\n",
    "{\n",
    "    \"unit\": pl.Series(\n",
    "        [\n",
    "            (-1, \"m\"),\n",
    "            (0, \"m\"),\n",
    "            (1, \"m\"),\n",
    "            (2, \"m\"),\n",
    "        ],\n",
    "        dtype=unit_dtype,\n",
    "    ),\n",
    "}\n",
    ")\n",
    "(\n",
    "df.with_columns(unit_op=unit_op(\"unit\"))\n",
    ".with_columns(polars = polars_op(pl.col(\"unit\").struct.field(\"value\")))#.all())[\"equal\"]\n",
    "#.item()\n",
    ")"
   ]
  },
  {
   "cell_type": "code",
   "execution_count": 4,
   "metadata": {},
   "outputs": [
    {
     "data": {
      "text/html": [
       "<div><style>\n",
       ".dataframe > thead > tr,\n",
       ".dataframe > tbody > tr {\n",
       "  text-align: right;\n",
       "  white-space: pre-wrap;\n",
       "}\n",
       "</style>\n",
       "<small>shape: (4, 1)</small><table border=\"1\" class=\"dataframe\"><thead><tr><th>unit</th></tr><tr><td>struct[2]</td></tr></thead><tbody><tr><td>{-2.0,&quot;m&quot;}</td></tr><tr><td>{0.0,&quot;m&quot;}</td></tr><tr><td>{2.0,&quot;m&quot;}</td></tr><tr><td>{4.0,&quot;m&quot;}</td></tr></tbody></table></div>"
      ],
      "text/plain": [
       "shape: (4, 1)\n",
       "┌────────────┐\n",
       "│ unit       │\n",
       "│ ---        │\n",
       "│ struct[2]  │\n",
       "╞════════════╡\n",
       "│ {-2.0,\"m\"} │\n",
       "│ {0.0,\"m\"}  │\n",
       "│ {2.0,\"m\"}  │\n",
       "│ {4.0,\"m\"}  │\n",
       "└────────────┘"
      ]
     },
     "execution_count": 4,
     "metadata": {},
     "output_type": "execute_result"
    }
   ],
   "source": [
    "df.with_columns(plu.add(\"unit\", \"unit\"))"
   ]
  },
  {
   "cell_type": "markdown",
   "metadata": {},
   "source": [
    "Polars series metaprogramming"
   ]
  }
 ],
 "metadata": {
  "kernelspec": {
   "display_name": "Python 3 (ipykernel)",
   "language": "python",
   "name": "python3"
  },
  "language_info": {
   "codemirror_mode": {
    "name": "ipython",
    "version": 3
   },
   "file_extension": ".py",
   "mimetype": "text/x-python",
   "name": "python",
   "nbconvert_exporter": "python",
   "pygments_lexer": "ipython3",
   "version": "3.13.1"
  }
 },
 "nbformat": 4,
 "nbformat_minor": 2
}
