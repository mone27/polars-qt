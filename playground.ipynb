{
 "cells": [
  {
   "cell_type": "code",
   "execution_count": 2,
   "metadata": {},
   "outputs": [],
   "source": [
    "import polars as pl\n",
    "# from polars_unit import unit_sum\n",
    "\n",
    "quantity = pl.Struct({\n",
    "    'value': pl.Int64,\n",
    "    'unit': pl.String,\n",
    "})\n",
    "\n",
    "\n",
    "df = pl.DataFrame({\n",
    "    'a': pl.Series([\n",
    "        (1, 'm'),\n",
    "        (2, 'm'),\n",
    "        (3, 'm'),\n",
    "        (4, 'm'),\n",
    "        (5, 'm'),\n",
    "    ], dtype=quantity),\n",
    "    \n",
    "    'b': pl.Series([\n",
    "        (1, 'm'),\n",
    "        (2, 'm'),\n",
    "        (3, 'm'),\n",
    "        (4, 'm'),\n",
    "        (5, 'm'),\n",
    "    ], dtype=quantity),\n",
    "    'c': [1,2,3, 4, 5]\n",
    "})\n",
    "\n",
    "\n",
    "# result = df.with_columns(sum = unit_sum(\"a\"), sum2 = unit_sum(\"c\"))\n",
    "# print(result)"
   ]
  },
  {
   "cell_type": "markdown",
   "metadata": {},
   "source": [
    "Numeric cast in polars"
   ]
  },
  {
   "cell_type": "code",
   "execution_count": 3,
   "metadata": {},
   "outputs": [
    {
     "data": {
      "text/plain": [
       "([Int64, Float64], [Int64, Float64, Float64])"
      ]
     },
     "execution_count": 3,
     "metadata": {},
     "output_type": "execute_result"
    }
   ],
   "source": [
    "start = pl.DataFrame({\n",
    "    'int': [1, 2, 3],\n",
    "    'float': [1.0, 2.0, 3.0],\n",
    "})\n",
    "sum = start.with_columns(sum = pl.col('int') + pl.col('float'))\n",
    "start.dtypes, sum.dtypes"
   ]
  }
 ],
 "metadata": {
  "kernelspec": {
   "display_name": "default",
   "language": "python",
   "name": "python3"
  },
  "language_info": {
   "codemirror_mode": {
    "name": "ipython",
    "version": 3
   },
   "file_extension": ".py",
   "mimetype": "text/x-python",
   "name": "python",
   "nbconvert_exporter": "python",
   "pygments_lexer": "ipython3",
   "version": "3.13.1"
  }
 },
 "nbformat": 4,
 "nbformat_minor": 2
}
